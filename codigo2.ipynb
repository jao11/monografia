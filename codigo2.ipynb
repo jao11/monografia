{
  "nbformat": 4,
  "nbformat_minor": 0,
  "metadata": {
    "colab": {
      "provenance": [],
      "collapsed_sections": [
        "s985FpZGw4l1"
      ],
      "authorship_tag": "ABX9TyN4MC0ypIrLCS4pHQtX0mh9",
      "include_colab_link": true
    },
    "kernelspec": {
      "name": "python3",
      "display_name": "Python 3"
    },
    "language_info": {
      "name": "python"
    }
  },
  "cells": [
    {
      "cell_type": "markdown",
      "metadata": {
        "id": "view-in-github",
        "colab_type": "text"
      },
      "source": [
        "<a href=\"https://colab.research.google.com/github/jao11/monografia/blob/main/codigo2.ipynb\" target=\"_parent\"><img src=\"https://colab.research.google.com/assets/colab-badge.svg\" alt=\"Open In Colab\"/></a>"
      ]
    },
    {
      "cell_type": "markdown",
      "source": [
        "# Biblioteca:"
      ],
      "metadata": {
        "id": "DTvPbvhewp1I"
      }
    },
    {
      "cell_type": "markdown",
      "source": [
        "## Montando o drive:"
      ],
      "metadata": {
        "id": "s985FpZGw4l1"
      }
    },
    {
      "cell_type": "code",
      "execution_count": null,
      "metadata": {
        "colab": {
          "base_uri": "https://localhost:8080/"
        },
        "id": "pa9rTWyXv8fb",
        "outputId": "eae6d451-1169-4544-cac6-0002038d2479"
      },
      "outputs": [
        {
          "output_type": "stream",
          "name": "stdout",
          "text": [
            "Mounted at /content/drive\n"
          ]
        }
      ],
      "source": [
        "from google.colab import drive\n",
        "drive.mount('/content/drive')"
      ]
    },
    {
      "cell_type": "markdown",
      "source": [
        "## Instalando bibliotecas e fazendo imports necessarios:"
      ],
      "metadata": {
        "id": "4qPdcKF9xFm6"
      }
    },
    {
      "cell_type": "code",
      "source": [
        "#!python3 -m pip install --user lightgbm\n",
        "!pip install plot-metric ## For plotting ROC at the end\n",
        "\n",
        "from xgboost import XGBClassifier\n",
        "from sklearn.linear_model import LogisticRegression\n",
        "from sklearn.ensemble import VotingClassifier\n",
        "from joblib import dump, load\n",
        "from sklearn.metrics import accuracy_score,precision_recall_curve\n",
        "from sklearn.metrics import f1_score,precision_score,recall_score\n",
        "from sklearn.metrics import confusion_matrix\n",
        "from plot_metric.functions import BinaryClassification\n",
        "\n",
        "import lightgbm as lgb\n",
        "import h5py\n",
        "import pandas as pd\n",
        "import numpy as np\n",
        "import matplotlib.pyplot as plt\n",
        "import seaborn as sns"
      ],
      "metadata": {
        "colab": {
          "base_uri": "https://localhost:8080/"
        },
        "id": "NG3Rwka9w1U3",
        "outputId": "c45eda78-1af3-4d07-8cad-bfe14660778d"
      },
      "execution_count": null,
      "outputs": [
        {
          "output_type": "stream",
          "name": "stdout",
          "text": [
            "Looking in indexes: https://pypi.org/simple, https://us-python.pkg.dev/colab-wheels/public/simple/\n",
            "Collecting plot-metric\n",
            "  Downloading plot_metric-0.0.6-py3-none-any.whl (13 kB)\n",
            "Requirement already satisfied: scipy>=1.1.0 in /usr/local/lib/python3.10/dist-packages (from plot-metric) (1.10.1)\n",
            "Requirement already satisfied: matplotlib>=3.0.2 in /usr/local/lib/python3.10/dist-packages (from plot-metric) (3.7.1)\n",
            "Requirement already satisfied: colorlover>=0.3.0 in /usr/local/lib/python3.10/dist-packages (from plot-metric) (0.3.0)\n",
            "Requirement already satisfied: pandas>=0.23.4 in /usr/local/lib/python3.10/dist-packages (from plot-metric) (1.5.3)\n",
            "Requirement already satisfied: seaborn>=0.9.0 in /usr/local/lib/python3.10/dist-packages (from plot-metric) (0.12.2)\n",
            "Requirement already satisfied: numpy>=1.15.4 in /usr/local/lib/python3.10/dist-packages (from plot-metric) (1.22.4)\n",
            "Requirement already satisfied: scikit-learn>=0.21.2 in /usr/local/lib/python3.10/dist-packages (from plot-metric) (1.2.2)\n",
            "Requirement already satisfied: contourpy>=1.0.1 in /usr/local/lib/python3.10/dist-packages (from matplotlib>=3.0.2->plot-metric) (1.0.7)\n",
            "Requirement already satisfied: cycler>=0.10 in /usr/local/lib/python3.10/dist-packages (from matplotlib>=3.0.2->plot-metric) (0.11.0)\n",
            "Requirement already satisfied: fonttools>=4.22.0 in /usr/local/lib/python3.10/dist-packages (from matplotlib>=3.0.2->plot-metric) (4.39.3)\n",
            "Requirement already satisfied: kiwisolver>=1.0.1 in /usr/local/lib/python3.10/dist-packages (from matplotlib>=3.0.2->plot-metric) (1.4.4)\n",
            "Requirement already satisfied: packaging>=20.0 in /usr/local/lib/python3.10/dist-packages (from matplotlib>=3.0.2->plot-metric) (23.1)\n",
            "Requirement already satisfied: pillow>=6.2.0 in /usr/local/lib/python3.10/dist-packages (from matplotlib>=3.0.2->plot-metric) (8.4.0)\n",
            "Requirement already satisfied: pyparsing>=2.3.1 in /usr/local/lib/python3.10/dist-packages (from matplotlib>=3.0.2->plot-metric) (3.0.9)\n",
            "Requirement already satisfied: python-dateutil>=2.7 in /usr/local/lib/python3.10/dist-packages (from matplotlib>=3.0.2->plot-metric) (2.8.2)\n",
            "Requirement already satisfied: pytz>=2020.1 in /usr/local/lib/python3.10/dist-packages (from pandas>=0.23.4->plot-metric) (2022.7.1)\n",
            "Requirement already satisfied: joblib>=1.1.1 in /usr/local/lib/python3.10/dist-packages (from scikit-learn>=0.21.2->plot-metric) (1.2.0)\n",
            "Requirement already satisfied: threadpoolctl>=2.0.0 in /usr/local/lib/python3.10/dist-packages (from scikit-learn>=0.21.2->plot-metric) (3.1.0)\n",
            "Requirement already satisfied: six>=1.5 in /usr/local/lib/python3.10/dist-packages (from python-dateutil>=2.7->matplotlib>=3.0.2->plot-metric) (1.16.0)\n",
            "Installing collected packages: plot-metric\n",
            "Successfully installed plot-metric-0.0.6\n"
          ]
        }
      ]
    },
    {
      "cell_type": "markdown",
      "source": [
        "# Dados:"
      ],
      "metadata": {
        "id": "POQtuj2txjtN"
      }
    },
    {
      "cell_type": "markdown",
      "source": [
        "## Constantes facilitadoras e colunas:"
      ],
      "metadata": {
        "id": "2-b0VCF-1Jfm"
      }
    },
    {
      "cell_type": "code",
      "source": [
        "# Constantes:\n",
        "\n",
        "PATH = '/content/drive/MyDrive/material_uerj/Monografia/minha_monografia/codigo/'\n",
        "PATH2 = 'refazendo/treino/'\n",
        "PATH3 = 'refazendo/machine_learning/arquivos_treinados'\n",
        "\n",
        "# Colunas:\n",
        "\n",
        "colunas_LGBM = [b'W_Mass', b'W_pt_lep', b'dPhi_Whad_Wlep', b'dPhi_jatos_MET', b'jetAK8_pt', b'jetAK8_eta', b'jetAK8_prunedMass', b'jetAK8_tau21',\n",
        "            b'METPt', b'muon_pt', b'muon_eta', b'ExtraTracks', b'W_rapidity', b'xi1', b'xi2',  b'Mpps', b'Ypps', b'Mww/Mpps', b'Ypps-Yww']\n"
      ],
      "metadata": {
        "id": "0YIAyhJwxrTo"
      },
      "execution_count": null,
      "outputs": []
    },
    {
      "cell_type": "markdown",
      "source": [
        "## Abrindo os arquivos preparados no código 1:"
      ],
      "metadata": {
        "id": "_kYRh0ci2TNG"
      }
    },
    {
      "cell_type": "code",
      "source": [
        "# x_train:\n",
        "\n",
        "x_anomalo_1_train = pd.DataFrame(np.array(h5py.File(PATH + PATH2 + 'x_train/x_anomalo_1_train.h5','r')['treino']),columns=colunas_LGBM)\n",
        "x_anomalo_2_train = pd.DataFrame(np.array(h5py.File(PATH + PATH2 + 'x_train/x_anomalo_2_train.h5','r')['treino']),columns=colunas_LGBM)\n",
        "x_anomalo_3_train = pd.DataFrame(np.array(h5py.File(PATH + PATH2 + 'x_train/x_anomalo_3_train.h5','r')['treino']),columns=colunas_LGBM)\n",
        "x_anomalo_4_train = pd.DataFrame(np.array(h5py.File(PATH + PATH2 + 'x_train/x_anomalo_4_train.h5','r')['treino']),columns=colunas_LGBM)\n",
        "x_anomalo_5_train = pd.DataFrame(np.array(h5py.File(PATH + PATH2 + 'x_train/x_anomalo_5_train.h5','r')['treino']),columns=colunas_LGBM)\n",
        "x_anomalo_6_train = pd.DataFrame(np.array(h5py.File(PATH + PATH2 + 'x_train/x_anomalo_6_train.h5','r')['treino']),columns=colunas_LGBM)\n",
        "x_anomalo_7_train = pd.DataFrame(np.array(h5py.File(PATH + PATH2 + 'x_train/x_anomalo_7_train.h5','r')['treino']),columns=colunas_LGBM)\n",
        "x_anomalo_8_train = pd.DataFrame(np.array(h5py.File(PATH + PATH2 + 'x_train/x_anomalo_8_train.h5','r')['treino']),columns=colunas_LGBM)\n",
        "\n",
        "# y_train:\n",
        "\n",
        "y_anomalo_1_train = pd.DataFrame(np.array(h5py.File(PATH + PATH2 + 'y_train/y_anomalo_1_train.h5','r')['treino']))#,columns=colunas_LGBM)\n",
        "y_anomalo_2_train = pd.DataFrame(np.array(h5py.File(PATH + PATH2 + 'y_train/y_anomalo_2_train.h5','r')['treino']))\n",
        "y_anomalo_3_train = pd.DataFrame(np.array(h5py.File(PATH + PATH2 + 'y_train/y_anomalo_3_train.h5','r')['treino']))\n",
        "y_anomalo_4_train = pd.DataFrame(np.array(h5py.File(PATH + PATH2 + 'y_train/y_anomalo_4_train.h5','r')['treino']))\n",
        "y_anomalo_5_train = pd.DataFrame(np.array(h5py.File(PATH + PATH2 + 'y_train/y_anomalo_5_train.h5','r')['treino']))\n",
        "y_anomalo_6_train = pd.DataFrame(np.array(h5py.File(PATH + PATH2 + 'y_train/y_anomalo_6_train.h5','r')['treino']))\n",
        "y_anomalo_7_train = pd.DataFrame(np.array(h5py.File(PATH + PATH2 + 'y_train/y_anomalo_7_train.h5','r')['treino']))\n",
        "y_anomalo_8_train = pd.DataFrame(np.array(h5py.File(PATH + PATH2 + 'y_train/y_anomalo_8_train.h5','r')['treino']))\n",
        "\n",
        "# x_test:\n",
        "\n",
        "x_anomalo_1_test = pd.DataFrame(np.array(h5py.File(PATH + PATH2 + 'x_test/x_anomalo_1_test.h5','r')['treino']),columns=colunas_LGBM)\n",
        "x_anomalo_2_test = pd.DataFrame(np.array(h5py.File(PATH + PATH2 + 'x_test/x_anomalo_2_test.h5','r')['treino']),columns=colunas_LGBM)\n",
        "x_anomalo_3_test = pd.DataFrame(np.array(h5py.File(PATH + PATH2 + 'x_test/x_anomalo_3_test.h5','r')['treino']),columns=colunas_LGBM)\n",
        "x_anomalo_4_test = pd.DataFrame(np.array(h5py.File(PATH + PATH2 + 'x_test/x_anomalo_4_test.h5','r')['treino']),columns=colunas_LGBM)\n",
        "x_anomalo_5_test = pd.DataFrame(np.array(h5py.File(PATH + PATH2 + 'x_test/x_anomalo_5_test.h5','r')['treino']),columns=colunas_LGBM)\n",
        "x_anomalo_6_test = pd.DataFrame(np.array(h5py.File(PATH + PATH2 + 'x_test/x_anomalo_6_test.h5','r')['treino']),columns=colunas_LGBM)\n",
        "x_anomalo_7_test = pd.DataFrame(np.array(h5py.File(PATH + PATH2 + 'x_test/x_anomalo_7_test.h5','r')['treino']),columns=colunas_LGBM)\n",
        "x_anomalo_8_test = pd.DataFrame(np.array(h5py.File(PATH + PATH2 + 'x_test/x_anomalo_8_test.h5','r')['treino']),columns=colunas_LGBM)\n",
        "\n",
        "# y_test:\n",
        "\n",
        "y_anomalo_1_test = pd.DataFrame(np.array(h5py.File(PATH + PATH2 + 'y_test/y_anomalo_1_test.h5','r')['treino']))#,columns=colunas_LGBM)\n",
        "y_anomalo_2_test = pd.DataFrame(np.array(h5py.File(PATH + PATH2 + 'y_test/y_anomalo_2_test.h5','r')['treino']))\n",
        "y_anomalo_3_test = pd.DataFrame(np.array(h5py.File(PATH + PATH2 + 'y_test/y_anomalo_3_test.h5','r')['treino']))\n",
        "y_anomalo_4_test = pd.DataFrame(np.array(h5py.File(PATH + PATH2 + 'y_test/y_anomalo_4_test.h5','r')['treino']))\n",
        "y_anomalo_5_test = pd.DataFrame(np.array(h5py.File(PATH + PATH2 + 'y_test/y_anomalo_5_test.h5','r')['treino']))\n",
        "y_anomalo_6_test = pd.DataFrame(np.array(h5py.File(PATH + PATH2 + 'y_test/y_anomalo_6_test.h5','r')['treino']))\n",
        "y_anomalo_7_test = pd.DataFrame(np.array(h5py.File(PATH + PATH2 + 'y_test/y_anomalo_7_test.h5','r')['treino']))\n",
        "y_anomalo_8_test = pd.DataFrame(np.array(h5py.File(PATH + PATH2 + 'y_test/y_anomalo_8_test.h5','r')['treino']))\n",
        "\n",
        "\n",
        "# pesos:\n",
        "\n",
        "weight_anomalo_1 = pd.DataFrame(np.array(h5py.File(PATH + PATH2 + 'weight_anomalo/weight_anomalo_1.h5','r')['treino']))#,columns=colunas_LGBM)\n",
        "weight_anomalo_2 = pd.DataFrame(np.array(h5py.File(PATH + PATH2 + 'weight_anomalo/weight_anomalo_2.h5','r')['treino']))\n",
        "weight_anomalo_3 = pd.DataFrame(np.array(h5py.File(PATH + PATH2 + 'weight_anomalo/weight_anomalo_3.h5','r')['treino']))\n",
        "weight_anomalo_4 = pd.DataFrame(np.array(h5py.File(PATH + PATH2 + 'weight_anomalo/weight_anomalo_4.h5','r')['treino']))\n",
        "weight_anomalo_5 = pd.DataFrame(np.array(h5py.File(PATH + PATH2 + 'weight_anomalo/weight_anomalo_5.h5','r')['treino']))\n",
        "weight_anomalo_6 = pd.DataFrame(np.array(h5py.File(PATH + PATH2 + 'weight_anomalo/weight_anomalo_6.h5','r')['treino']))\n",
        "weight_anomalo_7 = pd.DataFrame(np.array(h5py.File(PATH + PATH2 + 'weight_anomalo/weight_anomalo_7.h5','r')['treino']))\n",
        "weight_anomalo_8 = pd.DataFrame(np.array(h5py.File(PATH + PATH2 + 'weight_anomalo/weight_anomalo_8.h5','r')['treino']))\n"
      ],
      "metadata": {
        "id": "m2fyoB9q2oMS",
        "colab": {
          "base_uri": "https://localhost:8080/",
          "height": 237
        },
        "outputId": "0d54975b-4d1d-4b67-f406-71a4e0e8b81a"
      },
      "execution_count": 1,
      "outputs": [
        {
          "output_type": "error",
          "ename": "NameError",
          "evalue": "ignored",
          "traceback": [
            "\u001b[0;31m---------------------------------------------------------------------------\u001b[0m",
            "\u001b[0;31mNameError\u001b[0m                                 Traceback (most recent call last)",
            "\u001b[0;32m<ipython-input-1-c3e020e3eb3f>\u001b[0m in \u001b[0;36m<cell line: 3>\u001b[0;34m()\u001b[0m\n\u001b[1;32m      1\u001b[0m \u001b[0;31m# x_train:\u001b[0m\u001b[0;34m\u001b[0m\u001b[0;34m\u001b[0m\u001b[0m\n\u001b[1;32m      2\u001b[0m \u001b[0;34m\u001b[0m\u001b[0m\n\u001b[0;32m----> 3\u001b[0;31m \u001b[0mx_anomalo_1_train\u001b[0m \u001b[0;34m=\u001b[0m \u001b[0mpd\u001b[0m\u001b[0;34m.\u001b[0m\u001b[0mDataFrame\u001b[0m\u001b[0;34m(\u001b[0m\u001b[0mnp\u001b[0m\u001b[0;34m.\u001b[0m\u001b[0marray\u001b[0m\u001b[0;34m(\u001b[0m\u001b[0mh5py\u001b[0m\u001b[0;34m.\u001b[0m\u001b[0mFile\u001b[0m\u001b[0;34m(\u001b[0m\u001b[0mPATH\u001b[0m \u001b[0;34m+\u001b[0m \u001b[0mPATH2\u001b[0m \u001b[0;34m+\u001b[0m \u001b[0;34m'x_train/x_anomalo_1_train.h5'\u001b[0m\u001b[0;34m,\u001b[0m\u001b[0;34m'r'\u001b[0m\u001b[0;34m)\u001b[0m\u001b[0;34m[\u001b[0m\u001b[0;34m'treino'\u001b[0m\u001b[0;34m]\u001b[0m\u001b[0;34m)\u001b[0m\u001b[0;34m,\u001b[0m\u001b[0mcolumns\u001b[0m\u001b[0;34m=\u001b[0m\u001b[0mcolunas_LGBM\u001b[0m\u001b[0;34m)\u001b[0m\u001b[0;34m\u001b[0m\u001b[0;34m\u001b[0m\u001b[0m\n\u001b[0m\u001b[1;32m      4\u001b[0m \u001b[0mx_anomalo_2_train\u001b[0m \u001b[0;34m=\u001b[0m \u001b[0mpd\u001b[0m\u001b[0;34m.\u001b[0m\u001b[0mDataFrame\u001b[0m\u001b[0;34m(\u001b[0m\u001b[0mnp\u001b[0m\u001b[0;34m.\u001b[0m\u001b[0marray\u001b[0m\u001b[0;34m(\u001b[0m\u001b[0mh5py\u001b[0m\u001b[0;34m.\u001b[0m\u001b[0mFile\u001b[0m\u001b[0;34m(\u001b[0m\u001b[0mPATH\u001b[0m \u001b[0;34m+\u001b[0m \u001b[0mPATH2\u001b[0m \u001b[0;34m+\u001b[0m \u001b[0;34m'x_train/x_anomalo_2_train.h5'\u001b[0m\u001b[0;34m,\u001b[0m\u001b[0;34m'r'\u001b[0m\u001b[0;34m)\u001b[0m\u001b[0;34m[\u001b[0m\u001b[0;34m'treino'\u001b[0m\u001b[0;34m]\u001b[0m\u001b[0;34m)\u001b[0m\u001b[0;34m,\u001b[0m\u001b[0mcolumns\u001b[0m\u001b[0;34m=\u001b[0m\u001b[0mcolunas_LGBM\u001b[0m\u001b[0;34m)\u001b[0m\u001b[0;34m\u001b[0m\u001b[0;34m\u001b[0m\u001b[0m\n\u001b[1;32m      5\u001b[0m \u001b[0mx_anomalo_3_train\u001b[0m \u001b[0;34m=\u001b[0m \u001b[0mpd\u001b[0m\u001b[0;34m.\u001b[0m\u001b[0mDataFrame\u001b[0m\u001b[0;34m(\u001b[0m\u001b[0mnp\u001b[0m\u001b[0;34m.\u001b[0m\u001b[0marray\u001b[0m\u001b[0;34m(\u001b[0m\u001b[0mh5py\u001b[0m\u001b[0;34m.\u001b[0m\u001b[0mFile\u001b[0m\u001b[0;34m(\u001b[0m\u001b[0mPATH\u001b[0m \u001b[0;34m+\u001b[0m \u001b[0mPATH2\u001b[0m \u001b[0;34m+\u001b[0m \u001b[0;34m'x_train/x_anomalo_3_train.h5'\u001b[0m\u001b[0;34m,\u001b[0m\u001b[0;34m'r'\u001b[0m\u001b[0;34m)\u001b[0m\u001b[0;34m[\u001b[0m\u001b[0;34m'treino'\u001b[0m\u001b[0;34m]\u001b[0m\u001b[0;34m)\u001b[0m\u001b[0;34m,\u001b[0m\u001b[0mcolumns\u001b[0m\u001b[0;34m=\u001b[0m\u001b[0mcolunas_LGBM\u001b[0m\u001b[0;34m)\u001b[0m\u001b[0;34m\u001b[0m\u001b[0;34m\u001b[0m\u001b[0m\n",
            "\u001b[0;31mNameError\u001b[0m: name 'pd' is not defined"
          ]
        }
      ]
    },
    {
      "cell_type": "markdown",
      "source": [
        "# Árvore de Decisão:\n",
        "\n",
        "Seção para treinamento dos dados\n",
        "\n",
        "## Criando Modelos:\n",
        "\n",
        "Os modelos criados são baseados nas bibliotecas LogisticRegression, XGBClassifier, LGBMClassifier, sendo seguidos de uma classificação dos dados treinados ao usar o voting_classifier."
      ],
      "metadata": {
        "id": "Qw11frJU9Fp1"
      }
    },
    {
      "cell_type": "code",
      "source": [
        "lor_clf = LogisticRegression(solver = 'lbfgs', random_state = 42)\n",
        "xgb_clf = XGBClassifier(n_estimators = 1000, learning_rate = 0.001, random_state = 42)\n",
        "lgbm_clf = lgb.LGBMClassifier(objective = 'binary',   n_estimators = 1000, learning_rate = 0.001, boosting_type = 'gbdt', random_state = 42)\n",
        "\n",
        "voting_clf_soft_1 = VotingClassifier(\n",
        "    estimators=[('lr', lor_clf), ('xgb', xgb_clf), ('lgbm', lgbm_clf)],\n",
        "    voting='soft')\n",
        "\n",
        "#model1 = GridSearchCV( estimator=model1, param_grid=param_search, scoring = scoring, cv=cv, verbose=2, n_jobs=-1 )\n",
        "\n",
        "voting_clf_soft_1.fit(x_anomalo_1_train,y_anomalo_1_train)\n",
        "\n",
        "predict_proba_ = voting_clf_soft_1.predict_proba(x_anomalo_1_test)\n",
        "\n",
        "dump(voting_clf_soft_1, PATH + PATH3 + '/ligthGBM_binario_anomalo_1_DataDriven.joblib')"
      ],
      "metadata": {
        "colab": {
          "base_uri": "https://localhost:8080/"
        },
        "id": "_0BPT8-79DHn",
        "outputId": "eb274c36-1054-4d7b-abf4-a73ebd43f168"
      },
      "execution_count": null,
      "outputs": [
        {
          "output_type": "stream",
          "name": "stderr",
          "text": [
            "/usr/local/lib/python3.10/dist-packages/sklearn/preprocessing/_label.py:99: DataConversionWarning: A column-vector y was passed when a 1d array was expected. Please change the shape of y to (n_samples, ), for example using ravel().\n",
            "  y = column_or_1d(y, warn=True)\n",
            "/usr/local/lib/python3.10/dist-packages/sklearn/preprocessing/_label.py:134: DataConversionWarning: A column-vector y was passed when a 1d array was expected. Please change the shape of y to (n_samples, ), for example using ravel().\n",
            "  y = column_or_1d(y, dtype=self.classes_.dtype, warn=True)\n",
            "/usr/local/lib/python3.10/dist-packages/sklearn/linear_model/_logistic.py:458: ConvergenceWarning: lbfgs failed to converge (status=1):\n",
            "STOP: TOTAL NO. of ITERATIONS REACHED LIMIT.\n",
            "\n",
            "Increase the number of iterations (max_iter) or scale the data as shown in:\n",
            "    https://scikit-learn.org/stable/modules/preprocessing.html\n",
            "Please also refer to the documentation for alternative solver options:\n",
            "    https://scikit-learn.org/stable/modules/linear_model.html#logistic-regression\n",
            "  n_iter_i = _check_optimize_result(\n"
          ]
        },
        {
          "output_type": "execute_result",
          "data": {
            "text/plain": [
              "['/content/drive/MyDrive/material_uerj/Monografia/minha_monografia/codigo/refazendo/machine_learning/arquivos_treinados/ligthGBM_binario_anomalo_1_DataDriven.joblib']"
            ]
          },
          "metadata": {},
          "execution_count": 5
        }
      ]
    },
    {
      "cell_type": "code",
      "source": [
        "lor_clf = LogisticRegression(solver = 'lbfgs', random_state = 42)\n",
        "xgb_clf = XGBClassifier(n_estimators = 1000, learning_rate = 0.001, random_state = 42)\n",
        "lgbm_clf = lgb.LGBMClassifier(objective = 'binary',   n_estimators = 1000, learning_rate = 0.001, boosting_type = 'gbdt', random_state = 42)\n",
        "\n",
        "voting_clf_soft_2 = VotingClassifier(\n",
        "    estimators=[('lr', lor_clf), ('xgb', xgb_clf), ('lgbm', lgbm_clf)],\n",
        "    voting='soft')\n",
        "\n",
        "voting_clf_soft_2.fit(x_anomalo_2_train,y_anomalo_2_train)\n",
        "\n",
        "predict_proba_ = voting_clf_soft_2.predict_proba(x_anomalo_2_test)\n",
        "\n",
        "dump(voting_clf_soft_2, PATH + PATH3 + '/ligthGBM_binario_anomalo_2_DataDriven.joblib')"
      ],
      "metadata": {
        "colab": {
          "base_uri": "https://localhost:8080/"
        },
        "id": "NfaJmMk7RgQm",
        "outputId": "23ccfe76-c9ff-48ad-fd57-387b544a704d"
      },
      "execution_count": null,
      "outputs": [
        {
          "output_type": "stream",
          "name": "stderr",
          "text": [
            "/usr/local/lib/python3.10/dist-packages/sklearn/preprocessing/_label.py:99: DataConversionWarning: A column-vector y was passed when a 1d array was expected. Please change the shape of y to (n_samples, ), for example using ravel().\n",
            "  y = column_or_1d(y, warn=True)\n",
            "/usr/local/lib/python3.10/dist-packages/sklearn/preprocessing/_label.py:134: DataConversionWarning: A column-vector y was passed when a 1d array was expected. Please change the shape of y to (n_samples, ), for example using ravel().\n",
            "  y = column_or_1d(y, dtype=self.classes_.dtype, warn=True)\n",
            "/usr/local/lib/python3.10/dist-packages/sklearn/linear_model/_logistic.py:458: ConvergenceWarning: lbfgs failed to converge (status=1):\n",
            "STOP: TOTAL NO. of ITERATIONS REACHED LIMIT.\n",
            "\n",
            "Increase the number of iterations (max_iter) or scale the data as shown in:\n",
            "    https://scikit-learn.org/stable/modules/preprocessing.html\n",
            "Please also refer to the documentation for alternative solver options:\n",
            "    https://scikit-learn.org/stable/modules/linear_model.html#logistic-regression\n",
            "  n_iter_i = _check_optimize_result(\n"
          ]
        },
        {
          "output_type": "execute_result",
          "data": {
            "text/plain": [
              "['/content/drive/MyDrive/material_uerj/Monografia/minha_monografia/codigo/refazendo/machine_learning/arquivos_treinados/ligthGBM_binario_anomalo_2_DataDriven.joblib']"
            ]
          },
          "metadata": {},
          "execution_count": 6
        }
      ]
    },
    {
      "cell_type": "code",
      "source": [
        "lor_clf = LogisticRegression(solver = 'lbfgs', random_state = 42)\n",
        "xgb_clf = XGBClassifier(n_estimators = 1000, learning_rate = 0.001, random_state = 42)\n",
        "lgbm_clf = lgb.LGBMClassifier(objective = 'binary',   n_estimators = 1000, learning_rate = 0.001, boosting_type = 'gbdt', random_state = 42)\n",
        "\n",
        "voting_clf_soft_3 = VotingClassifier(\n",
        "    estimators=[('lr', lor_clf), ('xgb', xgb_clf), ('lgbm', lgbm_clf)],\n",
        "    voting='soft')\n",
        "\n",
        "#model1 = GridSearchCV( estimator=model1, param_grid=param_search, scoring = scoring, cv=cv, verbose=2, n_jobs=-1 )\n",
        "\n",
        "voting_clf_soft_3.fit(x_anomalo_3_train,y_anomalo_3_train)\n",
        "\n",
        "predict_proba_ = voting_clf_soft_3.predict_proba(x_anomalo_3_test)\n",
        "\n",
        "dump(voting_clf_soft_3, PATH + PATH3 + '/ligthGBM_binario_anomalo_3_DataDriven.joblib')"
      ],
      "metadata": {
        "colab": {
          "base_uri": "https://localhost:8080/"
        },
        "id": "remx8beRRg2d",
        "outputId": "488d5129-fe58-457c-8bec-9bd93b5e6a98"
      },
      "execution_count": null,
      "outputs": [
        {
          "metadata": {
            "tags": null
          },
          "name": "stderr",
          "output_type": "stream",
          "text": [
            "/usr/local/lib/python3.10/dist-packages/sklearn/preprocessing/_label.py:99: DataConversionWarning: A column-vector y was passed when a 1d array was expected. Please change the shape of y to (n_samples, ), for example using ravel().\n",
            "  y = column_or_1d(y, warn=True)\n",
            "/usr/local/lib/python3.10/dist-packages/sklearn/preprocessing/_label.py:134: DataConversionWarning: A column-vector y was passed when a 1d array was expected. Please change the shape of y to (n_samples, ), for example using ravel().\n",
            "  y = column_or_1d(y, dtype=self.classes_.dtype, warn=True)\n",
            "/usr/local/lib/python3.10/dist-packages/sklearn/linear_model/_logistic.py:458: ConvergenceWarning: lbfgs failed to converge (status=1):\n",
            "STOP: TOTAL NO. of ITERATIONS REACHED LIMIT.\n",
            "\n",
            "Increase the number of iterations (max_iter) or scale the data as shown in:\n",
            "    https://scikit-learn.org/stable/modules/preprocessing.html\n",
            "Please also refer to the documentation for alternative solver options:\n",
            "    https://scikit-learn.org/stable/modules/linear_model.html#logistic-regression\n",
            "  n_iter_i = _check_optimize_result(\n"
          ]
        },
        {
          "output_type": "execute_result",
          "data": {
            "text/plain": [
              "['/content/drive/MyDrive/material_uerj/Monografia/minha_monografia/codigo/refazendo/machine_learning/arquivos_treinados/ligthGBM_binario_anomalo_3_DataDriven.joblib']"
            ]
          },
          "metadata": {},
          "execution_count": 7
        }
      ]
    },
    {
      "cell_type": "code",
      "source": [
        "lor_clf = LogisticRegression(solver = 'lbfgs', random_state = 42)\n",
        "xgb_clf = XGBClassifier(n_estimators = 1000, learning_rate = 0.001, random_state = 42)\n",
        "lgbm_clf = lgb.LGBMClassifier(objective = 'binary',   n_estimators = 1000, learning_rate = 0.001, boosting_type = 'gbdt', random_state = 42)\n",
        "\n",
        "voting_clf_soft_4 = VotingClassifier(\n",
        "    estimators=[('lr', lor_clf), ('xgb', xgb_clf), ('lgbm', lgbm_clf)],\n",
        "    voting='soft')\n",
        "\n",
        "#model1 = GridSearchCV( estimator=model1, param_grid=param_search, scoring = scoring, cv=cv, verbose=2, n_jobs=-1 )\n",
        "\n",
        "voting_clf_soft_4.fit(x_anomalo_4_train,y_anomalo_4_train)\n",
        "\n",
        "predict_proba_ = voting_clf_soft_4.predict_proba(x_anomalo_4_test)\n",
        "\n",
        "dump(voting_clf_soft_4, PATH + PATH3 + '/ligthGBM_binario_anomalo_4_DataDriven.joblib')"
      ],
      "metadata": {
        "colab": {
          "base_uri": "https://localhost:8080/"
        },
        "id": "5PwWWQewRtPQ",
        "outputId": "d9c3aee7-3709-46aa-f07c-7479c7d7b38e"
      },
      "execution_count": null,
      "outputs": [
        {
          "output_type": "stream",
          "name": "stderr",
          "text": [
            "/usr/local/lib/python3.10/dist-packages/sklearn/preprocessing/_label.py:99: DataConversionWarning: A column-vector y was passed when a 1d array was expected. Please change the shape of y to (n_samples, ), for example using ravel().\n",
            "  y = column_or_1d(y, warn=True)\n",
            "/usr/local/lib/python3.10/dist-packages/sklearn/preprocessing/_label.py:134: DataConversionWarning: A column-vector y was passed when a 1d array was expected. Please change the shape of y to (n_samples, ), for example using ravel().\n",
            "  y = column_or_1d(y, dtype=self.classes_.dtype, warn=True)\n",
            "/usr/local/lib/python3.10/dist-packages/sklearn/linear_model/_logistic.py:458: ConvergenceWarning: lbfgs failed to converge (status=1):\n",
            "STOP: TOTAL NO. of ITERATIONS REACHED LIMIT.\n",
            "\n",
            "Increase the number of iterations (max_iter) or scale the data as shown in:\n",
            "    https://scikit-learn.org/stable/modules/preprocessing.html\n",
            "Please also refer to the documentation for alternative solver options:\n",
            "    https://scikit-learn.org/stable/modules/linear_model.html#logistic-regression\n",
            "  n_iter_i = _check_optimize_result(\n"
          ]
        },
        {
          "output_type": "execute_result",
          "data": {
            "text/plain": [
              "['/content/drive/MyDrive/material_uerj/Monografia/minha_monografia/codigo/refazendo/machine_learning/arquivos_treinados/ligthGBM_binario_anomalo_4_DataDriven.joblib']"
            ]
          },
          "metadata": {},
          "execution_count": 8
        }
      ]
    },
    {
      "cell_type": "code",
      "source": [
        "lor_clf = LogisticRegression(solver = 'lbfgs', random_state = 42)\n",
        "xgb_clf = XGBClassifier(n_estimators = 1000, learning_rate = 0.001, random_state = 42)\n",
        "lgbm_clf = lgb.LGBMClassifier(objective = 'binary',   n_estimators = 1000, learning_rate = 0.001, boosting_type = 'gbdt', random_state = 42)\n",
        "\n",
        "voting_clf_soft_5 = VotingClassifier(\n",
        "    estimators=[('lr', lor_clf), ('xgb', xgb_clf), ('lgbm', lgbm_clf)],\n",
        "    voting='soft')\n",
        "\n",
        "#model1 = GridSearchCV( estimator=model1, param_grid=param_search, scoring = scoring, cv=cv, verbose=2, n_jobs=-1 )\n",
        "\n",
        "voting_clf_soft_5.fit(x_anomalo_5_train,y_anomalo_5_train)\n",
        "\n",
        "predict_proba_ = voting_clf_soft_5.predict_proba(x_anomalo_5_test)\n",
        "\n",
        "dump(voting_clf_soft_5, PATH + PATH3 + '/ligthGBM_binario_anomalo_5_DataDriven.joblib')"
      ],
      "metadata": {
        "colab": {
          "base_uri": "https://localhost:8080/"
        },
        "id": "NjOSpG6oRv2x",
        "outputId": "2d94d0c4-7f64-4c70-cfb4-d5aa591c6f80"
      },
      "execution_count": null,
      "outputs": [
        {
          "output_type": "stream",
          "name": "stderr",
          "text": [
            "/usr/local/lib/python3.10/dist-packages/sklearn/preprocessing/_label.py:99: DataConversionWarning: A column-vector y was passed when a 1d array was expected. Please change the shape of y to (n_samples, ), for example using ravel().\n",
            "  y = column_or_1d(y, warn=True)\n",
            "/usr/local/lib/python3.10/dist-packages/sklearn/preprocessing/_label.py:134: DataConversionWarning: A column-vector y was passed when a 1d array was expected. Please change the shape of y to (n_samples, ), for example using ravel().\n",
            "  y = column_or_1d(y, dtype=self.classes_.dtype, warn=True)\n",
            "/usr/local/lib/python3.10/dist-packages/sklearn/linear_model/_logistic.py:458: ConvergenceWarning: lbfgs failed to converge (status=1):\n",
            "STOP: TOTAL NO. of ITERATIONS REACHED LIMIT.\n",
            "\n",
            "Increase the number of iterations (max_iter) or scale the data as shown in:\n",
            "    https://scikit-learn.org/stable/modules/preprocessing.html\n",
            "Please also refer to the documentation for alternative solver options:\n",
            "    https://scikit-learn.org/stable/modules/linear_model.html#logistic-regression\n",
            "  n_iter_i = _check_optimize_result(\n"
          ]
        },
        {
          "output_type": "execute_result",
          "data": {
            "text/plain": [
              "['/content/drive/MyDrive/material_uerj/Monografia/minha_monografia/codigo/refazendo/machine_learning/arquivos_treinados/ligthGBM_binario_anomalo_5_DataDriven.joblib']"
            ]
          },
          "metadata": {},
          "execution_count": 9
        }
      ]
    },
    {
      "cell_type": "code",
      "source": [
        "lor_clf = LogisticRegression(solver = 'lbfgs', random_state = 42)\n",
        "xgb_clf = XGBClassifier(n_estimators = 1000, learning_rate = 0.001, random_state = 42)\n",
        "lgbm_clf = lgb.LGBMClassifier(objective = 'binary',   n_estimators = 1000, learning_rate = 0.001, boosting_type = 'gbdt', random_state = 42)\n",
        "\n",
        "voting_clf_soft_6 = VotingClassifier(\n",
        "    estimators=[('lr', lor_clf), ('xgb', xgb_clf), ('lgbm', lgbm_clf)],\n",
        "    voting='soft')\n",
        "\n",
        "#model1 = GridSearchCV( estimator=model1, param_grid=param_search, scoring = scoring, cv=cv, verbose=2, n_jobs=-1 )\n",
        "\n",
        "voting_clf_soft_6.fit(x_anomalo_6_train,y_anomalo_6_train)\n",
        "\n",
        "predict_proba_ = voting_clf_soft_6.predict_proba(x_anomalo_6_test)\n",
        "\n",
        "dump(voting_clf_soft_6, PATH + PATH3 + '/ligthGBM_binario_anomalo_6_DataDriven.joblib')"
      ],
      "metadata": {
        "colab": {
          "base_uri": "https://localhost:8080/"
        },
        "id": "EUByEDt4R3kY",
        "outputId": "353ea9e9-9b8c-49b8-c9f2-16b8121780b7"
      },
      "execution_count": null,
      "outputs": [
        {
          "output_type": "stream",
          "name": "stderr",
          "text": [
            "/usr/local/lib/python3.10/dist-packages/sklearn/preprocessing/_label.py:99: DataConversionWarning: A column-vector y was passed when a 1d array was expected. Please change the shape of y to (n_samples, ), for example using ravel().\n",
            "  y = column_or_1d(y, warn=True)\n",
            "/usr/local/lib/python3.10/dist-packages/sklearn/preprocessing/_label.py:134: DataConversionWarning: A column-vector y was passed when a 1d array was expected. Please change the shape of y to (n_samples, ), for example using ravel().\n",
            "  y = column_or_1d(y, dtype=self.classes_.dtype, warn=True)\n",
            "/usr/local/lib/python3.10/dist-packages/sklearn/linear_model/_logistic.py:458: ConvergenceWarning: lbfgs failed to converge (status=1):\n",
            "STOP: TOTAL NO. of ITERATIONS REACHED LIMIT.\n",
            "\n",
            "Increase the number of iterations (max_iter) or scale the data as shown in:\n",
            "    https://scikit-learn.org/stable/modules/preprocessing.html\n",
            "Please also refer to the documentation for alternative solver options:\n",
            "    https://scikit-learn.org/stable/modules/linear_model.html#logistic-regression\n",
            "  n_iter_i = _check_optimize_result(\n"
          ]
        },
        {
          "output_type": "execute_result",
          "data": {
            "text/plain": [
              "['/content/drive/MyDrive/material_uerj/Monografia/minha_monografia/codigo/refazendo/machine_learning/arquivos_treinados/ligthGBM_binario_anomalo_6_DataDriven.joblib']"
            ]
          },
          "metadata": {},
          "execution_count": 10
        }
      ]
    },
    {
      "cell_type": "code",
      "source": [
        "lor_clf = LogisticRegression(solver = 'lbfgs', random_state = 42)\n",
        "xgb_clf = XGBClassifier(n_estimators = 1000, learning_rate = 0.001, random_state = 42)\n",
        "lgbm_clf = lgb.LGBMClassifier(objective = 'binary',   n_estimators = 1000, learning_rate = 0.001, boosting_type = 'gbdt', random_state = 42)\n",
        "\n",
        "voting_clf_soft_7 = VotingClassifier(\n",
        "    estimators=[('lr', lor_clf), ('xgb', xgb_clf), ('lgbm', lgbm_clf)],\n",
        "    voting='soft')\n",
        "\n",
        "#model1 = GridSearchCV( estimator=model1, param_grid=param_search, scoring = scoring, cv=cv, verbose=2, n_jobs=-1 )\n",
        "\n",
        "voting_clf_soft_7.fit(x_anomalo_7_train,y_anomalo_7_train)\n",
        "\n",
        "predict_proba_ = voting_clf_soft_7.predict_proba(x_anomalo_7_test)\n",
        "\n",
        "dump(voting_clf_soft_7, PATH + PATH3 + '/ligthGBM_binario_anomalo_7_DataDriven.joblib')"
      ],
      "metadata": {
        "colab": {
          "base_uri": "https://localhost:8080/"
        },
        "id": "Q7z3aWS4R6vg",
        "outputId": "5d5c15fd-d9e4-41e9-8d24-90e02d5356ca"
      },
      "execution_count": null,
      "outputs": [
        {
          "output_type": "stream",
          "name": "stderr",
          "text": [
            "/usr/local/lib/python3.10/dist-packages/sklearn/preprocessing/_label.py:99: DataConversionWarning: A column-vector y was passed when a 1d array was expected. Please change the shape of y to (n_samples, ), for example using ravel().\n",
            "  y = column_or_1d(y, warn=True)\n",
            "/usr/local/lib/python3.10/dist-packages/sklearn/preprocessing/_label.py:134: DataConversionWarning: A column-vector y was passed when a 1d array was expected. Please change the shape of y to (n_samples, ), for example using ravel().\n",
            "  y = column_or_1d(y, dtype=self.classes_.dtype, warn=True)\n",
            "/usr/local/lib/python3.10/dist-packages/sklearn/linear_model/_logistic.py:458: ConvergenceWarning: lbfgs failed to converge (status=1):\n",
            "STOP: TOTAL NO. of ITERATIONS REACHED LIMIT.\n",
            "\n",
            "Increase the number of iterations (max_iter) or scale the data as shown in:\n",
            "    https://scikit-learn.org/stable/modules/preprocessing.html\n",
            "Please also refer to the documentation for alternative solver options:\n",
            "    https://scikit-learn.org/stable/modules/linear_model.html#logistic-regression\n",
            "  n_iter_i = _check_optimize_result(\n"
          ]
        },
        {
          "output_type": "execute_result",
          "data": {
            "text/plain": [
              "['/content/drive/MyDrive/material_uerj/Monografia/minha_monografia/codigo/refazendo/machine_learning/arquivos_treinados/ligthGBM_binario_anomalo_7_DataDriven.joblib']"
            ]
          },
          "metadata": {},
          "execution_count": 11
        }
      ]
    },
    {
      "cell_type": "code",
      "source": [
        "lor_clf = LogisticRegression(solver = 'lbfgs', random_state = 42)\n",
        "xgb_clf = XGBClassifier(n_estimators = 1000, learning_rate = 0.001, random_state = 42)\n",
        "lgbm_clf = lgb.LGBMClassifier(objective = 'binary',   n_estimators = 1000, learning_rate = 0.001, boosting_type = 'gbdt', random_state = 42)\n",
        "\n",
        "voting_clf_soft_8 = VotingClassifier(\n",
        "    estimators=[('lr', lor_clf), ('xgb', xgb_clf), ('lgbm', lgbm_clf)],\n",
        "    voting='soft')\n",
        "\n",
        "#model1 = GridSearchCV( estimator=model1, param_grid=param_search, scoring = scoring, cv=cv, verbose=2, n_jobs=-1 )\n",
        "\n",
        "voting_clf_soft_8.fit(x_anomalo_8_train,y_anomalo_8_train)\n",
        "\n",
        "predict_proba_ = voting_clf_soft_8.predict_proba(x_anomalo_8_test)\n",
        "\n",
        "dump(voting_clf_soft_8, PATH + PATH3 + '/ligthGBM_binario_anomalo_8_DataDriven.joblib')"
      ],
      "metadata": {
        "colab": {
          "base_uri": "https://localhost:8080/"
        },
        "id": "aqVvxDLKR9np",
        "outputId": "8d5ce214-e721-46c3-d261-51ac6dd70d73"
      },
      "execution_count": null,
      "outputs": [
        {
          "output_type": "stream",
          "name": "stderr",
          "text": [
            "/usr/local/lib/python3.10/dist-packages/sklearn/preprocessing/_label.py:99: DataConversionWarning: A column-vector y was passed when a 1d array was expected. Please change the shape of y to (n_samples, ), for example using ravel().\n",
            "  y = column_or_1d(y, warn=True)\n",
            "/usr/local/lib/python3.10/dist-packages/sklearn/preprocessing/_label.py:134: DataConversionWarning: A column-vector y was passed when a 1d array was expected. Please change the shape of y to (n_samples, ), for example using ravel().\n",
            "  y = column_or_1d(y, dtype=self.classes_.dtype, warn=True)\n",
            "/usr/local/lib/python3.10/dist-packages/sklearn/linear_model/_logistic.py:458: ConvergenceWarning: lbfgs failed to converge (status=1):\n",
            "STOP: TOTAL NO. of ITERATIONS REACHED LIMIT.\n",
            "\n",
            "Increase the number of iterations (max_iter) or scale the data as shown in:\n",
            "    https://scikit-learn.org/stable/modules/preprocessing.html\n",
            "Please also refer to the documentation for alternative solver options:\n",
            "    https://scikit-learn.org/stable/modules/linear_model.html#logistic-regression\n",
            "  n_iter_i = _check_optimize_result(\n"
          ]
        },
        {
          "output_type": "execute_result",
          "data": {
            "text/plain": [
              "['/content/drive/MyDrive/material_uerj/Monografia/minha_monografia/codigo/refazendo/machine_learning/arquivos_treinados/ligthGBM_binario_anomalo_8_DataDriven.joblib']"
            ]
          },
          "metadata": {},
          "execution_count": 12
        }
      ]
    }
  ]
}